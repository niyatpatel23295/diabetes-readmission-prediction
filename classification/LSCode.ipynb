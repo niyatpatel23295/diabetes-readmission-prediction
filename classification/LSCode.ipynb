{
 "cells": [
  {
   "cell_type": "code",
   "execution_count": null,
   "metadata": {
    "collapsed": true
   },
   "outputs": [],
   "source": [
    "#importing all the required libraries"
   ]
  },
  {
   "cell_type": "code",
   "execution_count": 1,
   "metadata": {
    "collapsed": true
   },
   "outputs": [],
   "source": [
    "import numpy as np\n",
    "import pandas as pd\n",
    "import matplotlib.pyplot as pt\n",
    "import seaborn as sb\n"
   ]
  },
  {
   "cell_type": "code",
   "execution_count": null,
   "metadata": {
    "collapsed": true
   },
   "outputs": [],
   "source": [
    "#reading the data from dataset in csv file to a dataframe"
   ]
  },
  {
   "cell_type": "code",
   "execution_count": 2,
   "metadata": {
    "collapsed": true
   },
   "outputs": [],
   "source": [
    "dataframe1 = pd.read_csv('C:/Users/yashas/LSProject/dataset_diabetes/diabetic_data.csv')"
   ]
  },
  {
   "cell_type": "code",
   "execution_count": null,
   "metadata": {
    "collapsed": true
   },
   "outputs": [],
   "source": [
    "#printing existing attributes and count"
   ]
  },
  {
   "cell_type": "code",
   "execution_count": 3,
   "metadata": {},
   "outputs": [
    {
     "name": "stdout",
     "output_type": "stream",
     "text": [
      "['encounter_id' 'patient_nbr' 'race' 'gender' 'age' 'weight'\n",
      " 'admission_type_id' 'discharge_disposition_id' 'admission_source_id'\n",
      " 'time_in_hospital' 'payer_code' 'medical_specialty' 'num_lab_procedures'\n",
      " 'num_procedures' 'num_medications' 'number_outpatient' 'number_emergency'\n",
      " 'number_inpatient' 'diag_1' 'diag_2' 'diag_3' 'number_diagnoses'\n",
      " 'max_glu_serum' 'A1Cresult' 'metformin' 'repaglinide' 'nateglinide'\n",
      " 'chlorpropamide' 'glimepiride' 'acetohexamide' 'glipizide' 'glyburide'\n",
      " 'tolbutamide' 'pioglitazone' 'rosiglitazone' 'acarbose' 'miglitol'\n",
      " 'troglitazone' 'tolazamide' 'examide' 'citoglipton' 'insulin'\n",
      " 'glyburide-metformin' 'glipizide-metformin' 'glimepiride-pioglitazone'\n",
      " 'metformin-rosiglitazone' 'metformin-pioglitazone' 'change' 'diabetesMed'\n",
      " 'readmitted']\n"
     ]
    },
    {
     "data": {
      "text/plain": [
       "(101766, 50)"
      ]
     },
     "execution_count": 3,
     "metadata": {},
     "output_type": "execute_result"
    }
   ],
   "source": [
    "print dataframe1.columns.values\n",
    "#dataframe1.head(5)\n",
    "dataframe1.shape"
   ]
  },
  {
   "cell_type": "code",
   "execution_count": 4,
   "metadata": {},
   "outputs": [
    {
     "name": "stdout",
     "output_type": "stream",
     "text": [
      "['race' 'gender' 'age' 'admission_type_id' 'discharge_disposition_id'\n",
      " 'admission_source_id' 'time_in_hospital' 'num_lab_procedures'\n",
      " 'num_procedures' 'num_medications' 'number_outpatient' 'number_emergency'\n",
      " 'number_inpatient' 'diag_1' 'number_diagnoses' 'max_glu_serum' 'A1Cresult'\n",
      " 'metformin' 'glimepiride' 'glipizide' 'glyburide' 'pioglitazone'\n",
      " 'rosiglitazone' 'insulin' 'change' 'diabetesMed' 'readmitted']\n"
     ]
    }
   ],
   "source": [
    "#After many iterations these attributes are being removed\n",
    "#This can be visualised in overview codd\n",
    "\n",
    "#unique ids, won't contribute to classification\n",
    "del dataframe1['encounter_id']\n",
    "del dataframe1['patient_nbr']\n",
    "del dataframe1['payer_code']\n",
    "\n",
    "#Higher percentage of missing values\n",
    "del dataframe1['weight']\n",
    "del dataframe1['medical_specialty']\n",
    "\n",
    "#These won't affect the classification as the variance is too low \n",
    "del dataframe1['diag_2']\n",
    "del dataframe1['diag_3']\n",
    "\n",
    "del dataframe1['repaglinide']\n",
    "del dataframe1['nateglinide']\n",
    "del dataframe1['chlorpropamide']\n",
    "del dataframe1['acetohexamide']\n",
    "del dataframe1['tolbutamide']\n",
    "del dataframe1['acarbose']\n",
    "del dataframe1['miglitol']\n",
    "del dataframe1['troglitazone']\n",
    "del dataframe1['tolazamide']\n",
    "del dataframe1['examide']\n",
    "del dataframe1['citoglipton']\n",
    "del dataframe1['glyburide-metformin']\n",
    "del dataframe1['glipizide-metformin']\n",
    "del dataframe1['glimepiride-pioglitazone']\n",
    "del dataframe1['metformin-rosiglitazone']\n",
    "del dataframe1['metformin-pioglitazone']\n",
    "\n",
    "print dataframe1.columns.values\n"
   ]
  },
  {
   "cell_type": "code",
   "execution_count": 5,
   "metadata": {
    "collapsed": true
   },
   "outputs": [],
   "source": [
    "#recoding 0 to No readmission and 1 to <30 or >30 readmission from readmitted attribute - target variable\n",
    "dataframe1['readmitted'] = pd.Series([0 if val == 'NO' \n",
    "                                     else 1\n",
    "                                     for val in dataframe1['readmitted']])"
   ]
  },
  {
   "cell_type": "code",
   "execution_count": 6,
   "metadata": {
    "collapsed": true
   },
   "outputs": [],
   "source": [
    "#binary conversion: Attributes represented with two categories are converted to binary 1/0\n",
    "#This understanding is obtained by overview code\n",
    "\n",
    "dataframe1['change'] = pd.Series([0 if val == 'No' \n",
    "                                     else 1\n",
    "                                     for val in dataframe1['change']])\n",
    "dataframe1['diabetesMed'] = pd.Series([0 if val == 'No' \n",
    "                                     else 1\n",
    "                                     for val in dataframe1['diabetesMed']])\n",
    "\n",
    "#print(dataframe1['readmitted'])\n",
    "#'change','diabetesMed',"
   ]
  },
  {
   "cell_type": "code",
   "execution_count": 7,
   "metadata": {
    "collapsed": true
   },
   "outputs": [],
   "source": [
    "#Making categorical attribute to binary with 1 for diabetic category and 0 for others\n",
    "#According to ICD0 codes 250.xx is the format for diabetic and related diseases\n",
    "dataframe1['diag_1'] = pd.Series([1 if val.startswith('250')\n",
    "                                 else 0\n",
    "                                 for val in dataframe1['diag_1']], index = dataframe1.index)\n",
    "\n",
    "#dataframe1['diag_1']"
   ]
  },
  {
   "cell_type": "code",
   "execution_count": 8,
   "metadata": {
    "collapsed": true
   },
   "outputs": [],
   "source": [
    "#Square root transformation to reduce effects of extreme values\n",
    "dataframe1['number_outpatient'] = dataframe1['number_outpatient'].apply(lambda x:np.sqrt(x+0.5))\n",
    "dataframe1['number_inpatient'] = dataframe1['number_inpatient'].apply(lambda x:np.sqrt(x+0.5))\n",
    "dataframe1['number_emergency'] = dataframe1['number_emergency'].apply(lambda x:np.sqrt(x+0.5))\n",
    "\n",
    "#dataframe1['number_inpatient']"
   ]
  },
  {
   "cell_type": "code",
   "execution_count": 9,
   "metadata": {
    "collapsed": true
   },
   "outputs": [],
   "source": [
    "#standardisation to have 0 mean and unit variance\n",
    "scale_attr = ['time_in_hospital',\n",
    "             'num_lab_procedures','num_procedures','num_medications',\n",
    "             'number_outpatient','number_emergency','number_inpatient',\n",
    "             'number_diagnoses']\n",
    "\n",
    "from sklearn import preprocessing\n",
    "my_scaler = preprocessing.StandardScaler().fit(dataframe1[scale_attr])\n",
    "scale_data = my_scaler.transform(dataframe1[scale_attr])\n",
    "\n",
    "scale_dataframe = pd.DataFrame(data = scale_data, columns = scale_attr, index = dataframe1.index )\n",
    "dataframe1.drop(scale_attr, axis = 1, inplace = True)\n",
    "dataframe1 = pd.concat([dataframe1, scale_dataframe], axis = 1)\n",
    "\n",
    "#dataframe1['number_outpatient']"
   ]
  },
  {
   "cell_type": "code",
   "execution_count": 10,
   "metadata": {
    "collapsed": true
   },
   "outputs": [],
   "source": [
    "#converting categorical attributes to numerical i.e., binary attributes\n",
    "#evquivalent to one hot encoding\n",
    "cat_attributes = ['race','gender','age','admission_type_id','discharge_disposition_id','admission_source_id',\n",
    "                  'max_glu_serum','A1Cresult',\n",
    "                  'metformin','glimepiride','glipizide','glyburide','pioglitazone',\n",
    "                  'rosiglitazone','insulin']\n",
    "\n",
    "for i in cat_attributes: \n",
    "    dataframe1 = pd.get_dummies(dataframe1, prefix = [i], columns = [i])  \n"
   ]
  },
  {
   "cell_type": "code",
   "execution_count": 11,
   "metadata": {
    "collapsed": true
   },
   "outputs": [],
   "source": [
    "dataframe1.to_csv('LSProcessData2.csv')"
   ]
  },
  {
   "cell_type": "code",
   "execution_count": 12,
   "metadata": {},
   "outputs": [
    {
     "data": {
      "text/plain": [
       "(101766, 118)"
      ]
     },
     "execution_count": 12,
     "metadata": {},
     "output_type": "execute_result"
    }
   ],
   "source": [
    "dataframe1.shape"
   ]
  },
  {
   "cell_type": "code",
   "execution_count": 13,
   "metadata": {},
   "outputs": [
    {
     "data": {
      "text/html": [
       "<div>\n",
       "<style>\n",
       "    .dataframe thead tr:only-child th {\n",
       "        text-align: right;\n",
       "    }\n",
       "\n",
       "    .dataframe thead th {\n",
       "        text-align: left;\n",
       "    }\n",
       "\n",
       "    .dataframe tbody tr th {\n",
       "        vertical-align: top;\n",
       "    }\n",
       "</style>\n",
       "<table border=\"1\" class=\"dataframe\">\n",
       "  <thead>\n",
       "    <tr style=\"text-align: right;\">\n",
       "      <th></th>\n",
       "      <th>Attributes</th>\n",
       "      <th>UniqueValue_Count</th>\n",
       "      <th>MissingValue_Count</th>\n",
       "      <th>Attribute_Type</th>\n",
       "    </tr>\n",
       "  </thead>\n",
       "  <tbody>\n",
       "    <tr>\n",
       "      <th>0</th>\n",
       "      <td>diag_1</td>\n",
       "      <td>2</td>\n",
       "      <td>0</td>\n",
       "      <td>int64</td>\n",
       "    </tr>\n",
       "    <tr>\n",
       "      <th>1</th>\n",
       "      <td>change</td>\n",
       "      <td>2</td>\n",
       "      <td>0</td>\n",
       "      <td>int64</td>\n",
       "    </tr>\n",
       "    <tr>\n",
       "      <th>2</th>\n",
       "      <td>diabetesMed</td>\n",
       "      <td>2</td>\n",
       "      <td>0</td>\n",
       "      <td>int64</td>\n",
       "    </tr>\n",
       "    <tr>\n",
       "      <th>3</th>\n",
       "      <td>readmitted</td>\n",
       "      <td>2</td>\n",
       "      <td>0</td>\n",
       "      <td>int64</td>\n",
       "    </tr>\n",
       "    <tr>\n",
       "      <th>4</th>\n",
       "      <td>time_in_hospital</td>\n",
       "      <td>14</td>\n",
       "      <td>0</td>\n",
       "      <td>float64</td>\n",
       "    </tr>\n",
       "    <tr>\n",
       "      <th>5</th>\n",
       "      <td>num_lab_procedures</td>\n",
       "      <td>118</td>\n",
       "      <td>0</td>\n",
       "      <td>float64</td>\n",
       "    </tr>\n",
       "    <tr>\n",
       "      <th>6</th>\n",
       "      <td>num_procedures</td>\n",
       "      <td>7</td>\n",
       "      <td>0</td>\n",
       "      <td>float64</td>\n",
       "    </tr>\n",
       "    <tr>\n",
       "      <th>7</th>\n",
       "      <td>num_medications</td>\n",
       "      <td>75</td>\n",
       "      <td>0</td>\n",
       "      <td>float64</td>\n",
       "    </tr>\n",
       "    <tr>\n",
       "      <th>8</th>\n",
       "      <td>number_outpatient</td>\n",
       "      <td>39</td>\n",
       "      <td>0</td>\n",
       "      <td>float64</td>\n",
       "    </tr>\n",
       "    <tr>\n",
       "      <th>9</th>\n",
       "      <td>number_emergency</td>\n",
       "      <td>33</td>\n",
       "      <td>0</td>\n",
       "      <td>float64</td>\n",
       "    </tr>\n",
       "    <tr>\n",
       "      <th>10</th>\n",
       "      <td>number_inpatient</td>\n",
       "      <td>21</td>\n",
       "      <td>0</td>\n",
       "      <td>float64</td>\n",
       "    </tr>\n",
       "    <tr>\n",
       "      <th>11</th>\n",
       "      <td>number_diagnoses</td>\n",
       "      <td>16</td>\n",
       "      <td>0</td>\n",
       "      <td>float64</td>\n",
       "    </tr>\n",
       "    <tr>\n",
       "      <th>12</th>\n",
       "      <td>race_?</td>\n",
       "      <td>2</td>\n",
       "      <td>0</td>\n",
       "      <td>uint8</td>\n",
       "    </tr>\n",
       "    <tr>\n",
       "      <th>13</th>\n",
       "      <td>race_AfricanAmerican</td>\n",
       "      <td>2</td>\n",
       "      <td>0</td>\n",
       "      <td>uint8</td>\n",
       "    </tr>\n",
       "    <tr>\n",
       "      <th>14</th>\n",
       "      <td>race_Asian</td>\n",
       "      <td>2</td>\n",
       "      <td>0</td>\n",
       "      <td>uint8</td>\n",
       "    </tr>\n",
       "    <tr>\n",
       "      <th>15</th>\n",
       "      <td>race_Caucasian</td>\n",
       "      <td>2</td>\n",
       "      <td>0</td>\n",
       "      <td>uint8</td>\n",
       "    </tr>\n",
       "    <tr>\n",
       "      <th>16</th>\n",
       "      <td>race_Hispanic</td>\n",
       "      <td>2</td>\n",
       "      <td>0</td>\n",
       "      <td>uint8</td>\n",
       "    </tr>\n",
       "    <tr>\n",
       "      <th>17</th>\n",
       "      <td>race_Other</td>\n",
       "      <td>2</td>\n",
       "      <td>0</td>\n",
       "      <td>uint8</td>\n",
       "    </tr>\n",
       "    <tr>\n",
       "      <th>18</th>\n",
       "      <td>gender_Female</td>\n",
       "      <td>2</td>\n",
       "      <td>0</td>\n",
       "      <td>uint8</td>\n",
       "    </tr>\n",
       "    <tr>\n",
       "      <th>19</th>\n",
       "      <td>gender_Male</td>\n",
       "      <td>2</td>\n",
       "      <td>0</td>\n",
       "      <td>uint8</td>\n",
       "    </tr>\n",
       "    <tr>\n",
       "      <th>20</th>\n",
       "      <td>gender_Unknown/Invalid</td>\n",
       "      <td>2</td>\n",
       "      <td>0</td>\n",
       "      <td>uint8</td>\n",
       "    </tr>\n",
       "    <tr>\n",
       "      <th>21</th>\n",
       "      <td>age_[0-10)</td>\n",
       "      <td>2</td>\n",
       "      <td>0</td>\n",
       "      <td>uint8</td>\n",
       "    </tr>\n",
       "    <tr>\n",
       "      <th>22</th>\n",
       "      <td>age_[10-20)</td>\n",
       "      <td>2</td>\n",
       "      <td>0</td>\n",
       "      <td>uint8</td>\n",
       "    </tr>\n",
       "    <tr>\n",
       "      <th>23</th>\n",
       "      <td>age_[20-30)</td>\n",
       "      <td>2</td>\n",
       "      <td>0</td>\n",
       "      <td>uint8</td>\n",
       "    </tr>\n",
       "    <tr>\n",
       "      <th>24</th>\n",
       "      <td>age_[30-40)</td>\n",
       "      <td>2</td>\n",
       "      <td>0</td>\n",
       "      <td>uint8</td>\n",
       "    </tr>\n",
       "    <tr>\n",
       "      <th>25</th>\n",
       "      <td>age_[40-50)</td>\n",
       "      <td>2</td>\n",
       "      <td>0</td>\n",
       "      <td>uint8</td>\n",
       "    </tr>\n",
       "    <tr>\n",
       "      <th>26</th>\n",
       "      <td>age_[50-60)</td>\n",
       "      <td>2</td>\n",
       "      <td>0</td>\n",
       "      <td>uint8</td>\n",
       "    </tr>\n",
       "    <tr>\n",
       "      <th>27</th>\n",
       "      <td>age_[60-70)</td>\n",
       "      <td>2</td>\n",
       "      <td>0</td>\n",
       "      <td>uint8</td>\n",
       "    </tr>\n",
       "    <tr>\n",
       "      <th>28</th>\n",
       "      <td>age_[70-80)</td>\n",
       "      <td>2</td>\n",
       "      <td>0</td>\n",
       "      <td>uint8</td>\n",
       "    </tr>\n",
       "    <tr>\n",
       "      <th>29</th>\n",
       "      <td>age_[80-90)</td>\n",
       "      <td>2</td>\n",
       "      <td>0</td>\n",
       "      <td>uint8</td>\n",
       "    </tr>\n",
       "    <tr>\n",
       "      <th>...</th>\n",
       "      <td>...</td>\n",
       "      <td>...</td>\n",
       "      <td>...</td>\n",
       "      <td>...</td>\n",
       "    </tr>\n",
       "    <tr>\n",
       "      <th>88</th>\n",
       "      <td>A1Cresult_None</td>\n",
       "      <td>2</td>\n",
       "      <td>0</td>\n",
       "      <td>uint8</td>\n",
       "    </tr>\n",
       "    <tr>\n",
       "      <th>89</th>\n",
       "      <td>A1Cresult_Norm</td>\n",
       "      <td>2</td>\n",
       "      <td>0</td>\n",
       "      <td>uint8</td>\n",
       "    </tr>\n",
       "    <tr>\n",
       "      <th>90</th>\n",
       "      <td>metformin_Down</td>\n",
       "      <td>2</td>\n",
       "      <td>0</td>\n",
       "      <td>uint8</td>\n",
       "    </tr>\n",
       "    <tr>\n",
       "      <th>91</th>\n",
       "      <td>metformin_No</td>\n",
       "      <td>2</td>\n",
       "      <td>0</td>\n",
       "      <td>uint8</td>\n",
       "    </tr>\n",
       "    <tr>\n",
       "      <th>92</th>\n",
       "      <td>metformin_Steady</td>\n",
       "      <td>2</td>\n",
       "      <td>0</td>\n",
       "      <td>uint8</td>\n",
       "    </tr>\n",
       "    <tr>\n",
       "      <th>93</th>\n",
       "      <td>metformin_Up</td>\n",
       "      <td>2</td>\n",
       "      <td>0</td>\n",
       "      <td>uint8</td>\n",
       "    </tr>\n",
       "    <tr>\n",
       "      <th>94</th>\n",
       "      <td>glimepiride_Down</td>\n",
       "      <td>2</td>\n",
       "      <td>0</td>\n",
       "      <td>uint8</td>\n",
       "    </tr>\n",
       "    <tr>\n",
       "      <th>95</th>\n",
       "      <td>glimepiride_No</td>\n",
       "      <td>2</td>\n",
       "      <td>0</td>\n",
       "      <td>uint8</td>\n",
       "    </tr>\n",
       "    <tr>\n",
       "      <th>96</th>\n",
       "      <td>glimepiride_Steady</td>\n",
       "      <td>2</td>\n",
       "      <td>0</td>\n",
       "      <td>uint8</td>\n",
       "    </tr>\n",
       "    <tr>\n",
       "      <th>97</th>\n",
       "      <td>glimepiride_Up</td>\n",
       "      <td>2</td>\n",
       "      <td>0</td>\n",
       "      <td>uint8</td>\n",
       "    </tr>\n",
       "    <tr>\n",
       "      <th>98</th>\n",
       "      <td>glipizide_Down</td>\n",
       "      <td>2</td>\n",
       "      <td>0</td>\n",
       "      <td>uint8</td>\n",
       "    </tr>\n",
       "    <tr>\n",
       "      <th>99</th>\n",
       "      <td>glipizide_No</td>\n",
       "      <td>2</td>\n",
       "      <td>0</td>\n",
       "      <td>uint8</td>\n",
       "    </tr>\n",
       "    <tr>\n",
       "      <th>100</th>\n",
       "      <td>glipizide_Steady</td>\n",
       "      <td>2</td>\n",
       "      <td>0</td>\n",
       "      <td>uint8</td>\n",
       "    </tr>\n",
       "    <tr>\n",
       "      <th>101</th>\n",
       "      <td>glipizide_Up</td>\n",
       "      <td>2</td>\n",
       "      <td>0</td>\n",
       "      <td>uint8</td>\n",
       "    </tr>\n",
       "    <tr>\n",
       "      <th>102</th>\n",
       "      <td>glyburide_Down</td>\n",
       "      <td>2</td>\n",
       "      <td>0</td>\n",
       "      <td>uint8</td>\n",
       "    </tr>\n",
       "    <tr>\n",
       "      <th>103</th>\n",
       "      <td>glyburide_No</td>\n",
       "      <td>2</td>\n",
       "      <td>0</td>\n",
       "      <td>uint8</td>\n",
       "    </tr>\n",
       "    <tr>\n",
       "      <th>104</th>\n",
       "      <td>glyburide_Steady</td>\n",
       "      <td>2</td>\n",
       "      <td>0</td>\n",
       "      <td>uint8</td>\n",
       "    </tr>\n",
       "    <tr>\n",
       "      <th>105</th>\n",
       "      <td>glyburide_Up</td>\n",
       "      <td>2</td>\n",
       "      <td>0</td>\n",
       "      <td>uint8</td>\n",
       "    </tr>\n",
       "    <tr>\n",
       "      <th>106</th>\n",
       "      <td>pioglitazone_Down</td>\n",
       "      <td>2</td>\n",
       "      <td>0</td>\n",
       "      <td>uint8</td>\n",
       "    </tr>\n",
       "    <tr>\n",
       "      <th>107</th>\n",
       "      <td>pioglitazone_No</td>\n",
       "      <td>2</td>\n",
       "      <td>0</td>\n",
       "      <td>uint8</td>\n",
       "    </tr>\n",
       "    <tr>\n",
       "      <th>108</th>\n",
       "      <td>pioglitazone_Steady</td>\n",
       "      <td>2</td>\n",
       "      <td>0</td>\n",
       "      <td>uint8</td>\n",
       "    </tr>\n",
       "    <tr>\n",
       "      <th>109</th>\n",
       "      <td>pioglitazone_Up</td>\n",
       "      <td>2</td>\n",
       "      <td>0</td>\n",
       "      <td>uint8</td>\n",
       "    </tr>\n",
       "    <tr>\n",
       "      <th>110</th>\n",
       "      <td>rosiglitazone_Down</td>\n",
       "      <td>2</td>\n",
       "      <td>0</td>\n",
       "      <td>uint8</td>\n",
       "    </tr>\n",
       "    <tr>\n",
       "      <th>111</th>\n",
       "      <td>rosiglitazone_No</td>\n",
       "      <td>2</td>\n",
       "      <td>0</td>\n",
       "      <td>uint8</td>\n",
       "    </tr>\n",
       "    <tr>\n",
       "      <th>112</th>\n",
       "      <td>rosiglitazone_Steady</td>\n",
       "      <td>2</td>\n",
       "      <td>0</td>\n",
       "      <td>uint8</td>\n",
       "    </tr>\n",
       "    <tr>\n",
       "      <th>113</th>\n",
       "      <td>rosiglitazone_Up</td>\n",
       "      <td>2</td>\n",
       "      <td>0</td>\n",
       "      <td>uint8</td>\n",
       "    </tr>\n",
       "    <tr>\n",
       "      <th>114</th>\n",
       "      <td>insulin_Down</td>\n",
       "      <td>2</td>\n",
       "      <td>0</td>\n",
       "      <td>uint8</td>\n",
       "    </tr>\n",
       "    <tr>\n",
       "      <th>115</th>\n",
       "      <td>insulin_No</td>\n",
       "      <td>2</td>\n",
       "      <td>0</td>\n",
       "      <td>uint8</td>\n",
       "    </tr>\n",
       "    <tr>\n",
       "      <th>116</th>\n",
       "      <td>insulin_Steady</td>\n",
       "      <td>2</td>\n",
       "      <td>0</td>\n",
       "      <td>uint8</td>\n",
       "    </tr>\n",
       "    <tr>\n",
       "      <th>117</th>\n",
       "      <td>insulin_Up</td>\n",
       "      <td>2</td>\n",
       "      <td>0</td>\n",
       "      <td>uint8</td>\n",
       "    </tr>\n",
       "  </tbody>\n",
       "</table>\n",
       "<p>118 rows × 4 columns</p>\n",
       "</div>"
      ],
      "text/plain": [
       "                 Attributes  UniqueValue_Count  MissingValue_Count  \\\n",
       "0                    diag_1                  2                   0   \n",
       "1                    change                  2                   0   \n",
       "2               diabetesMed                  2                   0   \n",
       "3                readmitted                  2                   0   \n",
       "4          time_in_hospital                 14                   0   \n",
       "5        num_lab_procedures                118                   0   \n",
       "6            num_procedures                  7                   0   \n",
       "7           num_medications                 75                   0   \n",
       "8         number_outpatient                 39                   0   \n",
       "9          number_emergency                 33                   0   \n",
       "10         number_inpatient                 21                   0   \n",
       "11         number_diagnoses                 16                   0   \n",
       "12                   race_?                  2                   0   \n",
       "13     race_AfricanAmerican                  2                   0   \n",
       "14               race_Asian                  2                   0   \n",
       "15           race_Caucasian                  2                   0   \n",
       "16            race_Hispanic                  2                   0   \n",
       "17               race_Other                  2                   0   \n",
       "18            gender_Female                  2                   0   \n",
       "19              gender_Male                  2                   0   \n",
       "20   gender_Unknown/Invalid                  2                   0   \n",
       "21               age_[0-10)                  2                   0   \n",
       "22              age_[10-20)                  2                   0   \n",
       "23              age_[20-30)                  2                   0   \n",
       "24              age_[30-40)                  2                   0   \n",
       "25              age_[40-50)                  2                   0   \n",
       "26              age_[50-60)                  2                   0   \n",
       "27              age_[60-70)                  2                   0   \n",
       "28              age_[70-80)                  2                   0   \n",
       "29              age_[80-90)                  2                   0   \n",
       "..                      ...                ...                 ...   \n",
       "88           A1Cresult_None                  2                   0   \n",
       "89           A1Cresult_Norm                  2                   0   \n",
       "90           metformin_Down                  2                   0   \n",
       "91             metformin_No                  2                   0   \n",
       "92         metformin_Steady                  2                   0   \n",
       "93             metformin_Up                  2                   0   \n",
       "94         glimepiride_Down                  2                   0   \n",
       "95           glimepiride_No                  2                   0   \n",
       "96       glimepiride_Steady                  2                   0   \n",
       "97           glimepiride_Up                  2                   0   \n",
       "98           glipizide_Down                  2                   0   \n",
       "99             glipizide_No                  2                   0   \n",
       "100        glipizide_Steady                  2                   0   \n",
       "101            glipizide_Up                  2                   0   \n",
       "102          glyburide_Down                  2                   0   \n",
       "103            glyburide_No                  2                   0   \n",
       "104        glyburide_Steady                  2                   0   \n",
       "105            glyburide_Up                  2                   0   \n",
       "106       pioglitazone_Down                  2                   0   \n",
       "107         pioglitazone_No                  2                   0   \n",
       "108     pioglitazone_Steady                  2                   0   \n",
       "109         pioglitazone_Up                  2                   0   \n",
       "110      rosiglitazone_Down                  2                   0   \n",
       "111        rosiglitazone_No                  2                   0   \n",
       "112    rosiglitazone_Steady                  2                   0   \n",
       "113        rosiglitazone_Up                  2                   0   \n",
       "114            insulin_Down                  2                   0   \n",
       "115              insulin_No                  2                   0   \n",
       "116          insulin_Steady                  2                   0   \n",
       "117              insulin_Up                  2                   0   \n",
       "\n",
       "    Attribute_Type  \n",
       "0            int64  \n",
       "1            int64  \n",
       "2            int64  \n",
       "3            int64  \n",
       "4          float64  \n",
       "5          float64  \n",
       "6          float64  \n",
       "7          float64  \n",
       "8          float64  \n",
       "9          float64  \n",
       "10         float64  \n",
       "11         float64  \n",
       "12           uint8  \n",
       "13           uint8  \n",
       "14           uint8  \n",
       "15           uint8  \n",
       "16           uint8  \n",
       "17           uint8  \n",
       "18           uint8  \n",
       "19           uint8  \n",
       "20           uint8  \n",
       "21           uint8  \n",
       "22           uint8  \n",
       "23           uint8  \n",
       "24           uint8  \n",
       "25           uint8  \n",
       "26           uint8  \n",
       "27           uint8  \n",
       "28           uint8  \n",
       "29           uint8  \n",
       "..             ...  \n",
       "88           uint8  \n",
       "89           uint8  \n",
       "90           uint8  \n",
       "91           uint8  \n",
       "92           uint8  \n",
       "93           uint8  \n",
       "94           uint8  \n",
       "95           uint8  \n",
       "96           uint8  \n",
       "97           uint8  \n",
       "98           uint8  \n",
       "99           uint8  \n",
       "100          uint8  \n",
       "101          uint8  \n",
       "102          uint8  \n",
       "103          uint8  \n",
       "104          uint8  \n",
       "105          uint8  \n",
       "106          uint8  \n",
       "107          uint8  \n",
       "108          uint8  \n",
       "109          uint8  \n",
       "110          uint8  \n",
       "111          uint8  \n",
       "112          uint8  \n",
       "113          uint8  \n",
       "114          uint8  \n",
       "115          uint8  \n",
       "116          uint8  \n",
       "117          uint8  \n",
       "\n",
       "[118 rows x 4 columns]"
      ]
     },
     "execution_count": 13,
     "metadata": {},
     "output_type": "execute_result"
    }
   ],
   "source": [
    "#create concise table to understand the data\n",
    "\n",
    "data_type = dataframe1.dtypes.values\n",
    "missing_count = dataframe1.isnull().sum().values\n",
    "\n",
    "unique_count = []\n",
    "for attr in dataframe1.columns:\n",
    "    unique_count.append(dataframe1[attr].unique().shape[0])\n",
    "    \n",
    "info ={'Attributes': dataframe1.columns,\n",
    "       'Attribute_Type': data_type,\n",
    "       'MissingValue_Count':missing_count,\n",
    "       'UniqueValue_Count': unique_count\n",
    "       }\n",
    "col_names = {'Attributes','Attribute_Type','MissingValue_Count','UniqueValue_Count'}\n",
    "\n",
    "info_tab = pd.DataFrame(info,columns = col_names)\n",
    "info_tab"
   ]
  },
  {
   "cell_type": "code",
   "execution_count": null,
   "metadata": {
    "collapsed": true
   },
   "outputs": [],
   "source": [
    "#above table shows that the data now has numeric data only with float and int format => numeric form"
   ]
  },
  {
   "cell_type": "code",
   "execution_count": 14,
   "metadata": {
    "collapsed": true
   },
   "outputs": [],
   "source": [
    "#create x and y\n",
    "\n",
    "x = dataframe1.drop(['readmitted'], axis = 1)\n",
    "y = dataframe1['readmitted']"
   ]
  },
  {
   "cell_type": "code",
   "execution_count": null,
   "metadata": {
    "collapsed": true
   },
   "outputs": [],
   "source": [
    "#y"
   ]
  },
  {
   "cell_type": "code",
   "execution_count": 15,
   "metadata": {},
   "outputs": [
    {
     "name": "stderr",
     "output_type": "stream",
     "text": [
      "C:\\ProgramData\\Anaconda2\\lib\\site-packages\\sklearn\\cross_validation.py:41: DeprecationWarning: This module was deprecated in version 0.18 in favor of the model_selection module into which all the refactored classes and functions are moved. Also note that the interface of the new CV iterators are different from that of this module. This module will be removed in 0.20.\n",
      "  \"This module will be removed in 0.20.\", DeprecationWarning)\n"
     ]
    }
   ],
   "source": [
    "#split x and y into train test split with 80% of data as train data and 20% as test data\n",
    "from sklearn.cross_validation import train_test_split\n",
    "x_train, x_test, y_train, y_test = train_test_split(x, y, test_size = 0.2, random_state=42)"
   ]
  },
  {
   "cell_type": "code",
   "execution_count": 16,
   "metadata": {},
   "outputs": [
    {
     "name": "stdout",
     "output_type": "stream",
     "text": [
      "(81412, 117)\n",
      "(81412L,)\n",
      "(20354, 117)\n",
      "(20354L,)\n"
     ]
    }
   ],
   "source": [
    "print x_train.shape\n",
    "print y_train.shape\n",
    "print x_test.shape\n",
    "print y_test.shape"
   ]
  },
  {
   "cell_type": "code",
   "execution_count": null,
   "metadata": {
    "collapsed": true
   },
   "outputs": [],
   "source": [
    "#x_train.to_csv('TrainX.csv')\n",
    "#y_train.to_csv('TrainY.csv')\n",
    "#x_test.to_csv('TestX.csv')\n",
    "#y_test.to_csv('TestY.csv')"
   ]
  },
  {
   "cell_type": "code",
   "execution_count": null,
   "metadata": {
    "collapsed": true
   },
   "outputs": [],
   "source": [
    "#Applying dimensionality reduction\n",
    "#PCA/TruncatedSVD\n",
    "\n",
    "#from sklearn.decomposition import TruncatedSVD\n",
    "#from sklearn.decomposition import PCA\n",
    "\n",
    "#dr = TruncatedSVD()\n",
    "#dr=PCA()\n",
    "#dr.fit(x_train)\n",
    "#dr.fit(x_test)\n",
    "#x_train=dr.transform(x_train)\n",
    "#x_test=dr.transform(x_test)\n"
   ]
  },
  {
   "cell_type": "code",
   "execution_count": null,
   "metadata": {
    "collapsed": true
   },
   "outputs": [],
   "source": [
    "#CLASSIFIER ALGORITHMS without applying Dimensinality Reduction"
   ]
  },
  {
   "cell_type": "code",
   "execution_count": 18,
   "metadata": {},
   "outputs": [
    {
     "name": "stdout",
     "output_type": "stream",
     "text": [
      "('Neural Network MLP Accuracy:', 0.62759162818119285)\n",
      "('F1Score:', 0.62448169999434644)\n"
     ]
    }
   ],
   "source": [
    "#MLP classifier\n",
    "from sklearn.neural_network import MLPClassifier\n",
    "\n",
    "mlp = MLPClassifier()\n",
    "model = mlp.fit(x_train,y_train) \n",
    "pred = model.predict(x_test)\n",
    "\n",
    "from sklearn.metrics import accuracy_score \n",
    "#using accuracy metric because my data balanced- overview code \n",
    "MLPAccuracy = accuracy_score(y_test, pred) \n",
    "print(\"Neural Network MLP Accuracy:\",MLPAccuracy)\n",
    "\n",
    "from sklearn.metrics import f1_score\n",
    "F1score = f1_score(y_test, pred, average= 'weighted') \n",
    "print(\"F1Score:\",F1score)\n",
    "\n"
   ]
  },
  {
   "cell_type": "code",
   "execution_count": 19,
   "metadata": {},
   "outputs": [
    {
     "name": "stderr",
     "output_type": "stream",
     "text": [
      "C:\\ProgramData\\Anaconda2\\lib\\site-packages\\sklearn\\linear_model\\stochastic_gradient.py:128: FutureWarning: max_iter and tol parameters have been added in <class 'sklearn.linear_model.perceptron.Perceptron'> in 0.19. If both are left unset, they default to max_iter=5 and tol=None. If tol is not None, max_iter defaults to max_iter=1000. From 0.21, default max_iter will be 1000, and default tol will be 1e-3.\n",
      "  \"and default tol will be 1e-3.\" % type(self), FutureWarning)\n"
     ]
    },
    {
     "name": "stdout",
     "output_type": "stream",
     "text": [
      "('Perceptron Accuracy:', 0.57851036651272481)\n",
      "('F1Score:', 0.56878301743942983)\n"
     ]
    }
   ],
   "source": [
    "#Perceptron\n",
    "from sklearn.linear_model import Perceptron\n",
    "\n",
    "per = Perceptron()\n",
    "model = per.fit(x_train,y_train)\n",
    "pred = model.predict(x_test)\n",
    "\n",
    "from sklearn.metrics import accuracy_score\n",
    "PerAccuracy = accuracy_score(y_test, pred)\n",
    "print(\"Perceptron Accuracy:\",PerAccuracy)\n",
    "\n",
    "from sklearn.metrics import f1_score\n",
    "F1score = f1_score(y_test, pred, average= 'weighted') \n",
    "print(\"F1Score:\",F1score)\n",
    "\n",
    "#from sklearn.metrics import confusion_matrix \n",
    "#print(confusion_matrix(y_test, pred))\n"
   ]
  },
  {
   "cell_type": "code",
   "execution_count": 20,
   "metadata": {},
   "outputs": [
    {
     "name": "stdout",
     "output_type": "stream",
     "text": [
      "('LR Accuracy:', 0.63353640562051683)\n",
      "('F1Score:', 0.62592068973879256)\n"
     ]
    }
   ],
   "source": [
    "#LogisticRegression\n",
    "from sklearn.linear_model import LogisticRegression\n",
    "lr = LogisticRegression()\n",
    "model=lr.fit(x_train,y_train)\n",
    "pred = model.predict(x_test)\n",
    "\n",
    "from sklearn.metrics import accuracy_score\n",
    "LRAccuracy = accuracy_score(y_test, pred)\n",
    "print(\"LR Accuracy:\",LRAccuracy)\n",
    "\n",
    "from sklearn.metrics import f1_score\n",
    "F1score = f1_score(y_test, pred, average= 'weighted') \n",
    "print(\"F1Score:\",F1score)\n",
    "\n"
   ]
  },
  {
   "cell_type": "code",
   "execution_count": 21,
   "metadata": {},
   "outputs": [
    {
     "name": "stdout",
     "output_type": "stream",
     "text": [
      "('Naive base Accuracy:', 0.4869313157118994)\n",
      "('F1Score:', 0.4869313157118994)\n"
     ]
    }
   ],
   "source": [
    "#Gaussian NB\n",
    "from sklearn.naive_bayes import GaussianNB\n",
    "nb = GaussianNB()\n",
    "model = nb.fit(x_train,y_train)\n",
    "pred = model.predict(x_test)\n",
    "\n",
    "from sklearn.metrics import accuracy_score\n",
    "GNBAccuracy = accuracy_score(y_test, pred)\n",
    "print(\"Naive base Accuracy:\",GNBAccuracy)\n",
    "\n",
    "from sklearn.metrics import f1_score\n",
    "F1score = f1_score(y_test, pred, average= 'micro') \n",
    "print(\"F1Score:\",F1score)\n"
   ]
  },
  {
   "cell_type": "code",
   "execution_count": 22,
   "metadata": {},
   "outputs": [
    {
     "name": "stdout",
     "output_type": "stream",
     "text": [
      "('Decision Tree Accuracy:', 0.55821951459172647)\n",
      "('F1Score:', 0.55821951459172647)\n"
     ]
    }
   ],
   "source": [
    "#Decision Tree\n",
    "from sklearn import tree\n",
    "dt = tree.DecisionTreeClassifier()\n",
    "model=dt.fit(x_train,y_train)\n",
    "pred = model.predict(x_test)\n",
    "\n",
    "from sklearn.metrics import accuracy_score\n",
    "DTAccuracy = accuracy_score(y_test, pred)\n",
    "print(\"Decision Tree Accuracy:\",DTAccuracy)\n",
    "\n",
    "from sklearn.metrics import f1_score\n",
    "F1score = f1_score(y_test, pred, average= 'micro') \n",
    "print(\"F1Score:\",F1score)"
   ]
  },
  {
   "cell_type": "code",
   "execution_count": 23,
   "metadata": {},
   "outputs": [
    {
     "name": "stdout",
     "output_type": "stream",
     "text": [
      "('Random Forest Accuracy:', 0.60504077822541025)\n",
      "('F1Score:', 0.60504077822541025)\n"
     ]
    }
   ],
   "source": [
    "#Random Forest\n",
    "from sklearn.ensemble import RandomForestClassifier\n",
    "rf = RandomForestClassifier()\n",
    "model = rf.fit(x_train,y_train)\n",
    "pred = model.predict(x_test)\n",
    "\n",
    "from sklearn.metrics import accuracy_score\n",
    "RFAccuracy = accuracy_score(y_test, pred)\n",
    "print(\"Random Forest Accuracy:\",RFAccuracy)\n",
    "\n",
    "from sklearn.metrics import f1_score\n",
    "F1score = f1_score(y_test, pred, average= 'micro') \n",
    "print(\"F1Score:\",F1score)\n",
    "\n"
   ]
  },
  {
   "cell_type": "code",
   "execution_count": 81,
   "metadata": {},
   "outputs": [
    {
     "name": "stdout",
     "output_type": "stream",
     "text": [
      "('Bagging Accuracy:', 0.59742556745602826)\n",
      "('F1Score:', 0.59742556745602826)\n"
     ]
    }
   ],
   "source": [
    "#Bagging\n",
    "from sklearn.ensemble import BaggingClassifier\n",
    "bag = BaggingClassifier()\n",
    "model = bag.fit(x_train,y_train)\n",
    "pred = model.predict(x_test)\n",
    "\n",
    "from sklearn.metrics import accuracy_score\n",
    "BagAccuracy = accuracy_score(y_test, pred)\n",
    "print(\"Bagging Accuracy:\",BagAccuracy)\n",
    "\n",
    "from sklearn.metrics import f1_score\n",
    "F1score = f1_score(y_test, pred, average= 'micro') \n",
    "print(\"F1Score:\",F1score)"
   ]
  },
  {
   "cell_type": "code",
   "execution_count": 27,
   "metadata": {},
   "outputs": [
    {
     "name": "stdout",
     "output_type": "stream",
     "text": [
      "('Extra Trees Accuracy:', 0.59983295666699421)\n",
      "('F1Score:', 0.59983295666699421)\n"
     ]
    }
   ],
   "source": [
    "#ExtraTrees\n",
    "from sklearn.ensemble import ExtraTreesClassifier\n",
    "et = ExtraTreesClassifier()\n",
    "model = et.fit(x_train,y_train)\n",
    "pred = model.predict(x_test)\n",
    "\n",
    "from sklearn.metrics import accuracy_score\n",
    "ETAccuracy = accuracy_score(y_test, pred)\n",
    "print(\"Extra Trees Accuracy:\",ETAccuracy)\n",
    "\n",
    "from sklearn.metrics import f1_score\n",
    "F1score = f1_score(y_test, pred, average= 'micro') \n",
    "print(\"F1Score:\",F1score)\n"
   ]
  },
  {
   "cell_type": "code",
   "execution_count": 84,
   "metadata": {},
   "outputs": [
    {
     "name": "stdout",
     "output_type": "stream",
     "text": [
      "('Combined Accuracy:', 0.60012773901935734)\n",
      "('F1Score:', 0.60012773901935734)\n"
     ]
    }
   ],
   "source": [
    "#combining Bagging classifier and decision tree\n",
    "from sklearn import tree\n",
    "from sklearn.ensemble import BaggingClassifier\n",
    "\n",
    "com = BaggingClassifier(tree.DecisionTreeClassifier())\n",
    "model = com.fit(x_train,y_train)\n",
    "pred = model.predict(x_test)\n",
    "\n",
    "from sklearn.metrics import accuracy_score\n",
    "comAccuracy = accuracy_score(y_test, pred)\n",
    "print(\"Combined Accuracy:\",comAccuracy)\n",
    "\n",
    "from sklearn.metrics import f1_score\n",
    "F1score = f1_score(y_test, pred, average= 'micro') \n",
    "print(\"F1Score:\",F1score)\n"
   ]
  },
  {
   "cell_type": "code",
   "execution_count": 85,
   "metadata": {},
   "outputs": [
    {
     "data": {
      "image/png": "[encoded data removed]",
      "text/plain": [
       "<matplotlib.figure.Figure at 0x28f7ea58>"
      ]
     },
     "metadata": {},
     "output_type": "display_data"
    }
   ],
   "source": [
    "#plot and compare scores \n",
    "\n",
    "x_axis = np.arange(9)\n",
    "y_axis = [MLPAccuracy , LRAccuracy,\n",
    "          GNBAccuracy, DTAccuracy, RFAccuracy,\n",
    "          BagAccuracy,  PerAccuracy, ETAccuracy,comAccuracy]\n",
    "\n",
    "pt.bar(x_axis, y_axis, width=0.5)\n",
    "pt.xticks(x_axis+0.5/10.,('MLP','LR',\n",
    "           'GNB','DT','RFt',\n",
    "            'Bag','Per','ET','Com'))\n",
    "pt.ylabel('Accuracy')\n",
    "\n",
    "pt.show()"
   ]
  },
  {
   "cell_type": "code",
   "execution_count": 67,
   "metadata": {},
   "outputs": [],
   "source": [
    "#Cross_validation - 5 folds\n",
    "from sklearn.cross_validation import cross_val_score\n",
    "\n",
    "MLP_score = cross_val_score(mlp, x_train, y_train, cv=5).mean()\n",
    "LR_score = cross_val_score(lr, x_train, y_train, cv=5).mean()\n",
    "RF_score = cross_val_score(rf, x_train, y_train, cv=5).mean()\n"
   ]
  },
  {
   "cell_type": "code",
   "execution_count": 68,
   "metadata": {},
   "outputs": [
    {
     "name": "stdout",
     "output_type": "stream",
     "text": [
      "('MLP cross validation score', 0.61965070538713352)\n",
      "('LR cross validation score', 0.6361960365948669)\n",
      "('RF cross validation score', 0.60310519388355321)\n"
     ]
    }
   ],
   "source": [
    "print('MLP cross validation score', MLP_score)\n",
    "print('LR cross validation score', LR_score)\n",
    "print('RF cross validation score', RF_score)"
   ]
  },
  {
   "cell_type": "code",
   "execution_count": 32,
   "metadata": {},
   "outputs": [
    {
     "data": {
      "image/png": "[encoded data removed]",
      "text/plain": [
       "<matplotlib.figure.Figure at 0xe1cf978>"
      ]
     },
     "metadata": {},
     "output_type": "display_data"
    }
   ],
   "source": [
    "#Plot graph\n",
    "\n",
    "x_axis = np.arange(3)\n",
    "y_axis = [MLP_score, LR_score, RF_score]\n",
    "\n",
    "pt.bar(x_axis, y_axis, width=0.5)\n",
    "pt.xticks(x_axis+0.5/10.,('MLP','LR','RF'))\n",
    "pt.ylabel('Cross-Val Accuracy')\n",
    "\n",
    "pt.show()"
   ]
  },
  {
   "cell_type": "code",
   "execution_count": 33,
   "metadata": {},
   "outputs": [
    {
     "name": "stdout",
     "output_type": "stream",
     "text": [
      "('MLP cross validation score', 0.62274595376846631)\n",
      "('Logistic Regression cross validation score', 0.63620836707826811)\n",
      "('Random Forest cross validation score', 0.60319119591143688)\n"
     ]
    }
   ],
   "source": [
    "#Cross Validation - 10 fold\n",
    "\n",
    "#Cross_validation\n",
    "from sklearn.cross_validation import cross_val_score\n",
    "\n",
    "MLP_score = cross_val_score(mlp, x_train, y_train, cv=10).mean()\n",
    "print('MLP cross validation score', MLP_score)\n",
    "\n",
    "LR_score = cross_val_score(lr, x_train, y_train, cv=10).mean()\n",
    "print('Logistic Regression cross validation score', LR_score)\n",
    "\n",
    "RF_score = cross_val_score(rf, x_train, y_train, cv=10).mean()\n",
    "print('Random Forest cross validation score', RF_score)\n"
   ]
  },
  {
   "cell_type": "code",
   "execution_count": 35,
   "metadata": {},
   "outputs": [
    {
     "data": {
      "image/png": "[encoded data removed]",
      "text/plain": [
       "<matplotlib.figure.Figure at 0x196f37f0>"
      ]
     },
     "metadata": {},
     "output_type": "display_data"
    }
   ],
   "source": [
    "#Plot graph\n",
    "\n",
    "x_axis = np.arange(3)\n",
    "y_axis = [MLP_score, LR_score, RF_score]\n",
    "\n",
    "pt.bar(x_axis, y_axis, width=0.5)\n",
    "pt.xticks(x_axis+0.5/10.,('MLP','LR','RF'))\n",
    "pt.ylabel('Cross-Val Accuracy')\n",
    "\n",
    "pt.show()"
   ]
  },
  {
   "cell_type": "code",
   "execution_count": null,
   "metadata": {
    "collapsed": true
   },
   "outputs": [],
   "source": [
    "#Tweeking top 3 resulting classifiers\n",
    "#Parameter turning using GridSerachCV"
   ]
  },
  {
   "cell_type": "code",
   "execution_count": 40,
   "metadata": {},
   "outputs": [
    {
     "name": "stdout",
     "output_type": "stream",
     "text": [
      "MLP:\n",
      "0.638357981624\n"
     ]
    }
   ],
   "source": [
    "#MLPClassifier\n",
    "from sklearn.grid_search import GridSearchCV\n",
    "from sklearn.neural_network import MLPClassifier\n",
    "\n",
    "parameters ={\"solver\":['sgd'],\n",
    "            \"hidden_layer_sizes\":(15,),\n",
    "            \"random_state\":[1]}\n",
    "            \n",
    "mlpg = MLPClassifier()\n",
    "grid_m = GridSearchCV(mlpg,parameters,cv=10,scoring='accuracy')\n",
    "grid_m.fit(x_train, y_train)\n",
    "print('MLP:')\n",
    "print(grid_m.best_score_)\n"
   ]
  },
  {
   "cell_type": "code",
   "execution_count": 41,
   "metadata": {},
   "outputs": [
    {
     "name": "stdout",
     "output_type": "stream",
     "text": [
      "RF:\n",
      "0.631921584042\n"
     ]
    }
   ],
   "source": [
    "#Random Forest\n",
    "from sklearn.grid_search import GridSearchCV\n",
    "from sklearn.ensemble import RandomForestClassifier\n",
    "\n",
    "parameters ={\n",
    "            'min_samples_split':[5,10],\n",
    "            'min_samples_leaf':[3,5],\n",
    "            'max_depth':[10,15],\n",
    "            'max_leaf_nodes':[20,40]\n",
    "}\n",
    "\n",
    "rfg = RandomForestClassifier()\n",
    "grid_r = GridSearchCV(rfg,parameters,cv=10,scoring='accuracy')\n",
    "grid_r.fit(x_train, y_train)\n",
    "print('RF:')\n",
    "print(grid_r.best_score_)\n"
   ]
  },
  {
   "cell_type": "code",
   "execution_count": 45,
   "metadata": {},
   "outputs": [
    {
     "name": "stdout",
     "output_type": "stream",
     "text": [
      "LR:\n",
      "0.636355819781\n"
     ]
    }
   ],
   "source": [
    "#LogisticRegression\n",
    "from sklearn.grid_search import GridSearchCV\n",
    "from sklearn.linear_model import LogisticRegression\n",
    "\n",
    "c_range = np.arange(0.1, 3.2, 0.2)\n",
    "parameters = dict(C = c_range)\n",
    "\n",
    "lrg = LogisticRegression()\n",
    "grid_l = GridSearchCV(lrg,parameters,cv=5,scoring='accuracy')\n",
    "grid_l.fit(x_train, y_train)\n",
    "print('LR:')\n",
    "print(grid_l.best_score_)"
   ]
  },
  {
   "cell_type": "code",
   "execution_count": 75,
   "metadata": {},
   "outputs": [
    {
     "data": {
      "image/png": "[encoded data removed]",
      "text/plain": [
       "<matplotlib.figure.Figure at 0x12810da0>"
      ]
     },
     "metadata": {},
     "output_type": "display_data"
    }
   ],
   "source": [
    "#Plot graph\n",
    "\n",
    "x_axis = np.arange(3)\n",
    "y_axis = [grid_m.best_score_, grid_l.best_score_, grid_r.best_score_]\n",
    "\n",
    "pt.bar(x_axis, y_axis, width=0.5)\n",
    "pt.xticks(x_axis+0.5/10.,('MLP','LR','RF'))\n",
    "pt.ylabel('FineTunedAcuuracy')\n",
    "\n",
    "pt.show()"
   ]
  },
  {
   "cell_type": "code",
   "execution_count": null,
   "metadata": {},
   "outputs": [],
   "source": [
    "#Make prediction for test class with the tuned model"
   ]
  },
  {
   "cell_type": "code",
   "execution_count": 88,
   "metadata": {},
   "outputs": [
    {
     "name": "stdout",
     "output_type": "stream",
     "text": [
      "MLP Classifier Result:\n",
      "Prediction Accuracy\n",
      "0.640218138941\n",
      "Report\n",
      "             precision    recall  f1-score   support\n",
      "\n",
      "          0       0.65      0.73      0.69     10952\n",
      "          1       0.63      0.53      0.58      9402\n",
      "\n",
      "avg / total       0.64      0.64      0.64     20354\n",
      "\n",
      "Confusion Matrix\n",
      "[[8039 2913]\n",
      " [4410 4992]]\n",
      "********************************************************************\n",
      "Random Forest Result:\n",
      "Prediction Accuracy\n",
      "0.627100324261\n",
      "Report\n",
      "             precision    recall  f1-score   support\n",
      "\n",
      "          0       0.62      0.81      0.70     10952\n",
      "          1       0.65      0.42      0.51      9402\n",
      "\n",
      "avg / total       0.63      0.63      0.61     20354\n",
      "\n",
      "Confusion Matrix\n",
      "[[8829 2123]\n",
      " [5467 3935]]\n",
      "********************************************************************\n",
      "Logistic Regression Result\n",
      "Prediction Accuracy\n",
      "0.633634666405\n",
      "Report\n",
      "             precision    recall  f1-score   support\n",
      "\n",
      "          0       0.63      0.76      0.69     10952\n",
      "          1       0.64      0.48      0.55      9402\n",
      "\n",
      "avg / total       0.63      0.63      0.63     20354\n",
      "\n",
      "Confusion Matrix\n",
      "[[8338 2614]\n",
      " [4843 4559]]\n"
     ]
    }
   ],
   "source": [
    "from sklearn import metrics\n",
    "from sklearn.metrics import classification_report\n",
    "from sklearn.metrics import confusion_matrix\n",
    "\n",
    "print('MLP Classifier Result:')\n",
    "pred_MLP = grid_m.predict(x_test)\n",
    "mlpa = metrics.accuracy_score(y_test,pred_MLP)\n",
    "print('Prediction Accuracy')\n",
    "print(mlpa)\n",
    "print('Report')\n",
    "print(classification_report(y_test,pred_MLP))\n",
    "print('Confusion Matrix')\n",
    "print(confusion_matrix(y_test, pred_MLP))\n",
    "\n",
    "print('********************************************************************')\n",
    "print('Random Forest Result:')\n",
    "pred_RF = grid_r.predict(x_test)\n",
    "rfa = metrics.accuracy_score(y_test,pred_RF)\n",
    "print('Prediction Accuracy')\n",
    "print(rfa)\n",
    "print('Report')\n",
    "print(classification_report(y_test,pred_RF))\n",
    "print('Confusion Matrix')\n",
    "print(confusion_matrix(y_test, pred_RF))\n",
    "print('********************************************************************')\n",
    "print('Logistic Regression Result')\n",
    "pred_LR = grid_l.predict(x_test)\n",
    "lra = metrics.accuracy_score(y_test,pred_LR)\n",
    "print('Prediction Accuracy')\n",
    "print(lra)\n",
    "print('Report')\n",
    "print(classification_report(y_test,pred_LR))\n",
    "print('Confusion Matrix')\n",
    "print(confusion_matrix(y_test, pred_LR))"
   ]
  },
  {
   "cell_type": "code",
   "execution_count": 76,
   "metadata": {},
   "outputs": [
    {
     "data": {
      "image/png": "[encoded data removed]",
      "text/plain": [
       "<matplotlib.figure.Figure at 0x11d24780>"
      ]
     },
     "metadata": {},
     "output_type": "display_data"
    }
   ],
   "source": [
    "#Plot graph\n",
    "\n",
    "x_axis = np.arange(3)\n",
    "y_axis = [mlpa, lra, rfa]\n",
    "\n",
    "pt.bar(x_axis, y_axis, width=0.5)\n",
    "pt.xticks(x_axis+0.5/10.,('MLP','LR','RF'))\n",
    "pt.ylabel('FT Prediction Accuracy')\n",
    "\n",
    "pt.show()"
   ]
  },
  {
   "cell_type": "code",
   "execution_count": null,
   "metadata": {
    "collapsed": true
   },
   "outputs": [],
   "source": [
    "#ROC curve\n",
    "#ROC is a graphical plot which illustrates the performance of a binary \n",
    "#classifier system as its discrimination threshold is varied. AUC is the\n",
    "#percentage of the ROC plot that is underneath the curve. AUC is useful as\n",
    "#a single number summary of classifier performance."
   ]
  },
  {
   "cell_type": "code",
   "execution_count": 89,
   "metadata": {},
   "outputs": [
    {
     "name": "stdout",
     "output_type": "stream",
     "text": [
      "Probability mean for case 1 of readmission\n",
      "0.463541348389\n"
     ]
    }
   ],
   "source": [
    "#store the predicted probablitites for class 1\n",
    "print('Probability mean for case 1 of readmission')\n",
    "pred_MLP_prob = grid_m.predict_proba(x_test)[:,1]\n",
    "print pred_MLP_prob.mean()"
   ]
  },
  {
   "cell_type": "code",
   "execution_count": 90,
   "metadata": {},
   "outputs": [
    {
     "data": {
      "image/png": "[encoded data removed]",
      "text/plain": [
       "<matplotlib.figure.Figure at 0x19db1cc0>"
      ]
     },
     "metadata": {},
     "output_type": "display_data"
    }
   ],
   "source": [
    "#plot ROC curve\n",
    "\n",
    "fpr, tpr, threshols = metrics.roc_curve(y_test, pred_MLP_prob)\n",
    "pt.plot(fpr, tpr)\n",
    "\n",
    "pt.xlim([0.0,1.0])\n",
    "pt.ylim([0.0,1.0])\n",
    "\n",
    "pt.title('ROC curve for diabetic readmission')\n",
    "\n",
    "pt.xlabel('False Positive Rate (1-Specificity)')\n",
    "pt.ylabel('True Positive Rate (Sensitivity)')\n",
    "\n",
    "pt.grid(True)\n",
    "pt.show()"
   ]
  },
  {
   "cell_type": "code",
   "execution_count": 77,
   "metadata": {},
   "outputs": [
    {
     "name": "stdout",
     "output_type": "stream",
     "text": [
      "ROC AUC score\n",
      "0.69169210497\n"
     ]
    }
   ],
   "source": [
    "#AUC score\n",
    "print('ROC AUC score')\n",
    "mlp_auc = metrics.roc_auc_score(y_test,pred_MLP_prob )\n",
    "print(mlp_auc)"
   ]
  },
  {
   "cell_type": "code",
   "execution_count": 78,
   "metadata": {},
   "outputs": [
    {
     "name": "stdout",
     "output_type": "stream",
     "text": [
      "Probability mean for case 1\n",
      "0.460174945147\n",
      "ROC AUC score\n",
      "0.678563802963\n"
     ]
    }
   ],
   "source": [
    "#grid_r.predict(x_test)\n",
    "pred_RF_prob_ = grid_r.predict_proba(x_test)[:,1]\n",
    "print('Probability mean for case 1')\n",
    "print pred_RF_prob_.mean()\n",
    "print('ROC AUC score')\n",
    "rf_auc = metrics.roc_auc_score(y_test,pred_RF_prob_ )\n",
    "print(rf_auc)"
   ]
  },
  {
   "cell_type": "code",
   "execution_count": 79,
   "metadata": {},
   "outputs": [
    {
     "name": "stdout",
     "output_type": "stream",
     "text": [
      "Probability mean for case 1\n",
      "0.461596520274\n",
      "ROC AUC score\n",
      "0.686342554286\n"
     ]
    }
   ],
   "source": [
    "#grid_l.predict(x_test)\n",
    "pred_LR_prob_ = grid_l.predict_proba(x_test)[:,1]\n",
    "print('Probability mean for case 1')\n",
    "print pred_LR_prob_.mean()\n",
    "print('ROC AUC score')\n",
    "lr_auc = metrics.roc_auc_score(y_test,pred_LR_prob_ )\n",
    "print(lr_auc)"
   ]
  },
  {
   "cell_type": "code",
   "execution_count": 80,
   "metadata": {},
   "outputs": [
    {
     "data": {
      "image/png": "[encoded data removed]",
      "text/plain": [
       "<matplotlib.figure.Figure at 0x142fa0b8>"
      ]
     },
     "metadata": {},
     "output_type": "display_data"
    }
   ],
   "source": [
    "#Plot graph\n",
    "\n",
    "x_axis = np.arange(3)\n",
    "y_axis = [mlp_auc, lr_auc, rf_auc]\n",
    "\n",
    "pt.bar(x_axis, y_axis, width=0.5)\n",
    "pt.xticks(x_axis+0.5/10.,('MLP','LR','RF'))\n",
    "pt.ylabel('AUC Score')\n",
    "\n",
    "pt.show()"
   ]
  },
  {
   "cell_type": "code",
   "execution_count": 91,
   "metadata": {
    "scrolled": false
   },
   "outputs": [
    {
     "name": "stdout",
     "output_type": "stream",
     "text": [
      "Top 10 features are: \n",
      "num_lab_procedures\n",
      "num_medications\n",
      "time_in_hospital\n",
      "number_inpatient\n",
      "number_diagnoses\n",
      "num_procedures\n",
      "number_outpatient\n",
      "number_emergency\n",
      "gender_Female\n",
      "gender_Male\n"
     ]
    }
   ],
   "source": [
    "#Deriving the most important features affecting classification\n",
    "\n",
    "# fit Random Forest model to the cross-validation data\n",
    "from sklearn.ensemble import RandomForestClassifier\n",
    "forest = RandomForestClassifier()\n",
    "forest.fit(x_train, y_train)\n",
    "importances = forest.feature_importances_\n",
    "\n",
    "# make importance relative to the max importance\n",
    "feature_importance = 100.0 * (importances / importances.max())\n",
    "sorted_idx = np.argsort(feature_importance)\n",
    "feature_names = list(x_test.columns.values)\n",
    "feature_names_sort = [feature_names[indice] for indice in sorted_idx]\n",
    "pos = np.arange(sorted_idx.shape[0]) + .5\n",
    "print 'Top 10 features are: '\n",
    "for feature in feature_names_sort[::-1][:10]:\n",
    "    print feature"
   ]
  }
 ],
 "metadata": {
  "kernelspec": {
   "display_name": "Python 2",
   "language": "python",
   "name": "python2"
  },
  "language_info": {
   "codemirror_mode": {
    "name": "ipython",
    "version": 2
   },
   "file_extension": ".py",
   "mimetype": "text/x-python",
   "name": "python",
   "nbconvert_exporter": "python",
   "pygments_lexer": "ipython2",
   "version": "2.7.14"
  }
 },
 "nbformat": 4,
 "nbformat_minor": 2
}
